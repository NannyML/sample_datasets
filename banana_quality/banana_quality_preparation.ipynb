{
 "cells": [
  {
   "cell_type": "code",
   "execution_count": 1,
   "metadata": {},
   "outputs": [],
   "source": [
    "import pandas as pd\n",
    "import datetime as dt\n",
    "\n",
    "# dataset originally taken from https://www.kaggle.com/datasets/l3llff/banana/data\n",
    "df = pd.read_csv('banana_quality_raw.csv')\n",
    "\n",
    "df = df.sample(frac=1)\n",
    "df = df.reset_index(drop=True)\n",
    "# add artificial timestamp\n",
    "timestamps = [dt.datetime(2020,1,1) + dt.timedelta(hours=x/2) for x in df.index]\n",
    "df['Identifier'] = df.index\n",
    "df['Timestamp'] = timestamps\n",
    "df['Quality'] = df['Quality'].map({'Bad': 0, 'Good':1})\n",
    "df = df[['Identifier', 'Timestamp', 'Size', 'Weight', 'Sweetness', 'Softness', 'HarvestTime', 'Ripeness', 'Acidity', 'Quality']]\n",
    "df.to_csv('banana_quality.csv', index=False)"
   ]
  }
 ],
 "metadata": {
  "kernelspec": {
   "display_name": "thesis",
   "language": "python",
   "name": "python3"
  },
  "language_info": {
   "codemirror_mode": {
    "name": "ipython",
    "version": 3
   },
   "file_extension": ".py",
   "mimetype": "text/x-python",
   "name": "python",
   "nbconvert_exporter": "python",
   "pygments_lexer": "ipython3",
   "version": "3.10.8"
  }
 },
 "nbformat": 4,
 "nbformat_minor": 2
}
